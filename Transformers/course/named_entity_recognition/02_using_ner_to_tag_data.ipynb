{
 "cells": [
  {
   "cell_type": "markdown",
   "metadata": {},
   "source": [
    "# Using NER to Tag Data\n",
    "\n",
    "We are using the dataset pulled from */r/investing* and the SpaCy NER code covered in the previous sections."
   ]
  },
  {
   "cell_type": "code",
   "execution_count": 1,
   "metadata": {},
   "outputs": [],
   "source": [
    "import spacy\n",
    "import pandas as pd\n",
    "\n",
    "nlp = spacy.load('en_core_web_sm')"
   ]
  },
  {
   "cell_type": "markdown",
   "metadata": {},
   "source": [
    "The NER code will be reformated into a function that will consume a length of text, and return a list of mentioned organizations:"
   ]
  },
  {
   "cell_type": "code",
   "execution_count": 2,
   "metadata": {},
   "outputs": [],
   "source": [
    "def get_orgs(text):\n",
    "    # process the text with our SpaCy model to get named entities\n",
    "    doc = nlp(text)\n",
    "    # initialize list to store identified organizations\n",
    "    org_list = []\n",
    "    # loop through the identified entities and append ORG entities to org_list\n",
    "    for entity in doc.ents:\n",
    "        if entity.label_ == 'ORG':\n",
    "            org_list.append(entity.text)\n",
    "    # if organization is identified more than once it will appear multiple times in list\n",
    "    # we use set() to remove duplicates then convert back to list\n",
    "    org_list = list(set(org_list))\n",
    "    return org_list"
   ]
  },
  {
   "cell_type": "markdown",
   "metadata": {},
   "source": [
    "## Applying NER\n",
    "\n",
    "All we need to do now is load in the */r/investing* data and apply the `get_orgs` function to our text column to create a new `organizations` column.\n",
    "\n",
    "1. Load the data and view the top five rows with `df.head()`:"
   ]
  },
  {
   "cell_type": "code",
   "execution_count": 3,
   "metadata": {},
   "outputs": [
    {
     "data": {
      "text/html": [
       "<div>\n",
       "<style scoped>\n",
       "    .dataframe tbody tr th:only-of-type {\n",
       "        vertical-align: middle;\n",
       "    }\n",
       "\n",
       "    .dataframe tbody tr th {\n",
       "        vertical-align: top;\n",
       "    }\n",
       "\n",
       "    .dataframe thead th {\n",
       "        text-align: right;\n",
       "    }\n",
       "</style>\n",
       "<table border=\"1\" class=\"dataframe\">\n",
       "  <thead>\n",
       "    <tr style=\"text-align: right;\">\n",
       "      <th></th>\n",
       "      <th>id</th>\n",
       "      <th>created_utc</th>\n",
       "      <th>subreddit</th>\n",
       "      <th>title</th>\n",
       "      <th>selftext</th>\n",
       "      <th>upvote_ratio</th>\n",
       "      <th>ups</th>\n",
       "      <th>downs</th>\n",
       "      <th>score</th>\n",
       "    </tr>\n",
       "  </thead>\n",
       "  <tbody>\n",
       "    <tr>\n",
       "      <th>0</th>\n",
       "      <td>t3_1bzahku</td>\n",
       "      <td>1.712613e+09</td>\n",
       "      <td>investing</td>\n",
       "      <td>Backdoor Roth conversion when I have a Rollove...</td>\n",
       "      <td>I have a Rollover IRA (Fidelity) from a previo...</td>\n",
       "      <td>1.00</td>\n",
       "      <td>4.0</td>\n",
       "      <td>0.0</td>\n",
       "      <td>4.0</td>\n",
       "    </tr>\n",
       "    <tr>\n",
       "      <th>1</th>\n",
       "      <td>t3_1bza2ns</td>\n",
       "      <td>1.712612e+09</td>\n",
       "      <td>investing</td>\n",
       "      <td>New fund that gives exposure to SpaceX and OpenAI</td>\n",
       "      <td>It’s a fund, but behaves like a stock so far, ...</td>\n",
       "      <td>0.10</td>\n",
       "      <td>0.0</td>\n",
       "      <td>0.0</td>\n",
       "      <td>0.0</td>\n",
       "    </tr>\n",
       "    <tr>\n",
       "      <th>2</th>\n",
       "      <td>t3_1bz9rgb</td>\n",
       "      <td>1.712611e+09</td>\n",
       "      <td>investing</td>\n",
       "      <td>Passive Investing with Ally?</td>\n",
       "      <td>I have set aside a decent chunk of money and w...</td>\n",
       "      <td>0.50</td>\n",
       "      <td>0.0</td>\n",
       "      <td>0.0</td>\n",
       "      <td>0.0</td>\n",
       "    </tr>\n",
       "    <tr>\n",
       "      <th>3</th>\n",
       "      <td>t3_1bz5ypn</td>\n",
       "      <td>1.712602e+09</td>\n",
       "      <td>investing</td>\n",
       "      <td>Would Fastly be a small-cap AI play in 2024?</td>\n",
       "      <td>[Fastly](https://www.barrons.com/market-data/s...</td>\n",
       "      <td>0.54</td>\n",
       "      <td>1.0</td>\n",
       "      <td>0.0</td>\n",
       "      <td>1.0</td>\n",
       "    </tr>\n",
       "    <tr>\n",
       "      <th>4</th>\n",
       "      <td>t3_1bz5s2o</td>\n",
       "      <td>1.712602e+09</td>\n",
       "      <td>investing</td>\n",
       "      <td>What’s missing from my Vanguard basic conserva...</td>\n",
       "      <td>What’s missing from my Vanguard basic conserva...</td>\n",
       "      <td>0.40</td>\n",
       "      <td>0.0</td>\n",
       "      <td>0.0</td>\n",
       "      <td>0.0</td>\n",
       "    </tr>\n",
       "  </tbody>\n",
       "</table>\n",
       "</div>"
      ],
      "text/plain": [
       "           id   created_utc  subreddit  \\\n",
       "0  t3_1bzahku  1.712613e+09  investing   \n",
       "1  t3_1bza2ns  1.712612e+09  investing   \n",
       "2  t3_1bz9rgb  1.712611e+09  investing   \n",
       "3  t3_1bz5ypn  1.712602e+09  investing   \n",
       "4  t3_1bz5s2o  1.712602e+09  investing   \n",
       "\n",
       "                                               title  \\\n",
       "0  Backdoor Roth conversion when I have a Rollove...   \n",
       "1  New fund that gives exposure to SpaceX and OpenAI   \n",
       "2                      Passive Investing with Ally?    \n",
       "3       Would Fastly be a small-cap AI play in 2024?   \n",
       "4  What’s missing from my Vanguard basic conserva...   \n",
       "\n",
       "                                            selftext  upvote_ratio  ups  \\\n",
       "0  I have a Rollover IRA (Fidelity) from a previo...          1.00  4.0   \n",
       "1  It’s a fund, but behaves like a stock so far, ...          0.10  0.0   \n",
       "2  I have set aside a decent chunk of money and w...          0.50  0.0   \n",
       "3  [Fastly](https://www.barrons.com/market-data/s...          0.54  1.0   \n",
       "4  What’s missing from my Vanguard basic conserva...          0.40  0.0   \n",
       "\n",
       "   downs  score  \n",
       "0    0.0    4.0  \n",
       "1    0.0    0.0  \n",
       "2    0.0    0.0  \n",
       "3    0.0    1.0  \n",
       "4    0.0    0.0  "
      ]
     },
     "execution_count": 3,
     "metadata": {},
     "output_type": "execute_result"
    }
   ],
   "source": [
    "df = pd.read_csv('./data/reddit_investing.csv', sep='|')\n",
    "df.head()"
   ]
  },
  {
   "cell_type": "markdown",
   "metadata": {},
   "source": [
    "2. Extract mentioned organizations from `selftext` and add to a new column called `organizations`:"
   ]
  },
  {
   "cell_type": "code",
   "execution_count": 4,
   "metadata": {},
   "outputs": [
    {
     "data": {
      "text/html": [
       "<div>\n",
       "<style scoped>\n",
       "    .dataframe tbody tr th:only-of-type {\n",
       "        vertical-align: middle;\n",
       "    }\n",
       "\n",
       "    .dataframe tbody tr th {\n",
       "        vertical-align: top;\n",
       "    }\n",
       "\n",
       "    .dataframe thead th {\n",
       "        text-align: right;\n",
       "    }\n",
       "</style>\n",
       "<table border=\"1\" class=\"dataframe\">\n",
       "  <thead>\n",
       "    <tr style=\"text-align: right;\">\n",
       "      <th></th>\n",
       "      <th>id</th>\n",
       "      <th>created_utc</th>\n",
       "      <th>subreddit</th>\n",
       "      <th>title</th>\n",
       "      <th>selftext</th>\n",
       "      <th>upvote_ratio</th>\n",
       "      <th>ups</th>\n",
       "      <th>downs</th>\n",
       "      <th>score</th>\n",
       "      <th>organizations</th>\n",
       "    </tr>\n",
       "  </thead>\n",
       "  <tbody>\n",
       "    <tr>\n",
       "      <th>0</th>\n",
       "      <td>t3_1bzahku</td>\n",
       "      <td>1.712613e+09</td>\n",
       "      <td>investing</td>\n",
       "      <td>Backdoor Roth conversion when I have a Rollove...</td>\n",
       "      <td>I have a Rollover IRA (Fidelity) from a previo...</td>\n",
       "      <td>1.00</td>\n",
       "      <td>4.0</td>\n",
       "      <td>0.0</td>\n",
       "      <td>4.0</td>\n",
       "      <td>[Fidelity]</td>\n",
       "    </tr>\n",
       "    <tr>\n",
       "      <th>1</th>\n",
       "      <td>t3_1bza2ns</td>\n",
       "      <td>1.712612e+09</td>\n",
       "      <td>investing</td>\n",
       "      <td>New fund that gives exposure to SpaceX and OpenAI</td>\n",
       "      <td>It’s a fund, but behaves like a stock so far, ...</td>\n",
       "      <td>0.10</td>\n",
       "      <td>0.0</td>\n",
       "      <td>0.0</td>\n",
       "      <td>0.0</td>\n",
       "      <td>[]</td>\n",
       "    </tr>\n",
       "    <tr>\n",
       "      <th>2</th>\n",
       "      <td>t3_1bz9rgb</td>\n",
       "      <td>1.712611e+09</td>\n",
       "      <td>investing</td>\n",
       "      <td>Passive Investing with Ally?</td>\n",
       "      <td>I have set aside a decent chunk of money and w...</td>\n",
       "      <td>0.50</td>\n",
       "      <td>0.0</td>\n",
       "      <td>0.0</td>\n",
       "      <td>0.0</td>\n",
       "      <td>[AOA, Vanguard/Fidelity/Schwab, Ally, HYSA]</td>\n",
       "    </tr>\n",
       "    <tr>\n",
       "      <th>3</th>\n",
       "      <td>t3_1bz5ypn</td>\n",
       "      <td>1.712602e+09</td>\n",
       "      <td>investing</td>\n",
       "      <td>Would Fastly be a small-cap AI play in 2024?</td>\n",
       "      <td>[Fastly](https://www.barrons.com/market-data/s...</td>\n",
       "      <td>0.54</td>\n",
       "      <td>1.0</td>\n",
       "      <td>0.0</td>\n",
       "      <td>1.0</td>\n",
       "      <td>[Fastly](https://www.barrons.com, Neutral, mar...</td>\n",
       "    </tr>\n",
       "    <tr>\n",
       "      <th>4</th>\n",
       "      <td>t3_1bz5s2o</td>\n",
       "      <td>1.712602e+09</td>\n",
       "      <td>investing</td>\n",
       "      <td>What’s missing from my Vanguard basic conserva...</td>\n",
       "      <td>What’s missing from my Vanguard basic conserva...</td>\n",
       "      <td>0.40</td>\n",
       "      <td>0.0</td>\n",
       "      <td>0.0</td>\n",
       "      <td>0.0</td>\n",
       "      <td>[VOO]</td>\n",
       "    </tr>\n",
       "  </tbody>\n",
       "</table>\n",
       "</div>"
      ],
      "text/plain": [
       "           id   created_utc  subreddit  \\\n",
       "0  t3_1bzahku  1.712613e+09  investing   \n",
       "1  t3_1bza2ns  1.712612e+09  investing   \n",
       "2  t3_1bz9rgb  1.712611e+09  investing   \n",
       "3  t3_1bz5ypn  1.712602e+09  investing   \n",
       "4  t3_1bz5s2o  1.712602e+09  investing   \n",
       "\n",
       "                                               title  \\\n",
       "0  Backdoor Roth conversion when I have a Rollove...   \n",
       "1  New fund that gives exposure to SpaceX and OpenAI   \n",
       "2                      Passive Investing with Ally?    \n",
       "3       Would Fastly be a small-cap AI play in 2024?   \n",
       "4  What’s missing from my Vanguard basic conserva...   \n",
       "\n",
       "                                            selftext  upvote_ratio  ups  \\\n",
       "0  I have a Rollover IRA (Fidelity) from a previo...          1.00  4.0   \n",
       "1  It’s a fund, but behaves like a stock so far, ...          0.10  0.0   \n",
       "2  I have set aside a decent chunk of money and w...          0.50  0.0   \n",
       "3  [Fastly](https://www.barrons.com/market-data/s...          0.54  1.0   \n",
       "4  What’s missing from my Vanguard basic conserva...          0.40  0.0   \n",
       "\n",
       "   downs  score                                      organizations  \n",
       "0    0.0    4.0                                         [Fidelity]  \n",
       "1    0.0    0.0                                                 []  \n",
       "2    0.0    0.0        [AOA, Vanguard/Fidelity/Schwab, Ally, HYSA]  \n",
       "3    0.0    1.0  [Fastly](https://www.barrons.com, Neutral, mar...  \n",
       "4    0.0    0.0                                              [VOO]  "
      ]
     },
     "execution_count": 4,
     "metadata": {},
     "output_type": "execute_result"
    }
   ],
   "source": [
    "df['organizations'] = df['selftext'].apply(get_orgs)\n",
    "df.head()"
   ]
  },
  {
   "cell_type": "markdown",
   "metadata": {},
   "source": [
    "*(This step can take a long time to run. It can be useful to break larger datasets into more manageable chunks if required)*\n",
    "\n",
    "Now we have a list of all mentioned organizations contained within the `organizations` column. We will now take the full column, merge each list, and use `Counter` to create a frequency table of organization mentions."
   ]
  },
  {
   "cell_type": "code",
   "execution_count": 5,
   "metadata": {},
   "outputs": [
    {
     "data": {
      "text/plain": [
       "['Fidelity',\n",
       " 'AOA',\n",
       " 'Vanguard/Fidelity/Schwab',\n",
       " 'Ally',\n",
       " 'HYSA',\n",
       " 'Fastly](https://www.barrons.com',\n",
       " 'Neutral',\n",
       " 'margin](https://www.ainvest.com/news',\n",
       " 'Piper Sandler](https://www.barrons.com',\n",
       " 'VOO']"
      ]
     },
     "execution_count": 5,
     "metadata": {},
     "output_type": "execute_result"
    }
   ],
   "source": [
    "# merge organizations column into one big list\n",
    "orgs = df['organizations'].to_list()\n",
    "orgs = [org for sublist in orgs for org in sublist]\n",
    "orgs[:10]"
   ]
  },
  {
   "cell_type": "code",
   "execution_count": 6,
   "metadata": {},
   "outputs": [],
   "source": [
    "from collections import Counter"
   ]
  },
  {
   "cell_type": "code",
   "execution_count": 7,
   "metadata": {},
   "outputs": [],
   "source": [
    "# create dictionary of organization mention frequency\n",
    "org_freq = Counter(orgs)"
   ]
  },
  {
   "cell_type": "markdown",
   "metadata": {},
   "source": [
    "We now have a *Counter* dictionary containing all of our organization labels as *keys*, and their mention frequency as *values*. The `most_common(n)` method allows us to view the **n** most frequently mentioned organizations:"
   ]
  },
  {
   "cell_type": "code",
   "execution_count": 8,
   "metadata": {},
   "outputs": [
    {
     "data": {
      "text/plain": [
       "[('VOO', 48),\n",
       " ('ETF', 45),\n",
       " ('Fidelity', 35),\n",
       " ('FAQ', 35),\n",
       " ('max', 23),\n",
       " ('Vanguard', 22),\n",
       " ('NVDA', 15),\n",
       " ('AI', 13),\n",
       " ('Apple', 13),\n",
       " ('Amazon', 11)]"
      ]
     },
     "execution_count": 8,
     "metadata": {},
     "output_type": "execute_result"
    }
   ],
   "source": [
    "org_freq.most_common(10)"
   ]
  },
  {
   "cell_type": "markdown",
   "metadata": {},
   "source": [
    "Clearly there is a need to do some further pruning of the data to remove non-organization labels like *EV* (electric vehicle), *COVID*, *ETF* (exchange trading fund), *NYSE*, and *SPAC* (special acquisition company). Depending on the use-case it may even be useful to keep a few of these, or remove a few others like *SEC* and *FDA*.\n",
    "\n",
    "To do this, we would create a custom list and implement it in our `get_orgs` function like so:"
   ]
  },
  {
   "cell_type": "code",
   "execution_count": 9,
   "metadata": {},
   "outputs": [],
   "source": [
    "BLACKLIST = ['ev', 'covid', 'etf', 'nyse', 'sec', 'spac', 'fda']\n",
    "\n",
    "def get_orgs(text):\n",
    "    doc = nlp(text)\n",
    "    org_list = []\n",
    "    for entity in doc.ents:\n",
    "        # here we modify the original code to check that entity text is not equal to one of our 'blacklisted' organizations\n",
    "        # (we also add .lower() to lowercase the text, this allows us to match both 'nyse' and 'NYSE' with just 'nyse')\n",
    "        if entity.label_ == 'ORG' and entity.text.lower() not in BLACKLIST:\n",
    "            org_list.append(entity.text)\n",
    "    # if organization is identified more than once it will appear multiple times in list\n",
    "    # we use set() to remove duplicates then convert back to list\n",
    "    org_list = list(set(org_list))\n",
    "    return org_list"
   ]
  },
  {
   "cell_type": "markdown",
   "metadata": {},
   "source": [
    "If we then apply this new `get_org` function to our dataframe we will see that *ETF* that originally appeared alongside *ARK* in the second row is no longer included:"
   ]
  },
  {
   "cell_type": "code",
   "execution_count": 10,
   "metadata": {},
   "outputs": [
    {
     "data": {
      "text/html": [
       "<div>\n",
       "<style scoped>\n",
       "    .dataframe tbody tr th:only-of-type {\n",
       "        vertical-align: middle;\n",
       "    }\n",
       "\n",
       "    .dataframe tbody tr th {\n",
       "        vertical-align: top;\n",
       "    }\n",
       "\n",
       "    .dataframe thead th {\n",
       "        text-align: right;\n",
       "    }\n",
       "</style>\n",
       "<table border=\"1\" class=\"dataframe\">\n",
       "  <thead>\n",
       "    <tr style=\"text-align: right;\">\n",
       "      <th></th>\n",
       "      <th>id</th>\n",
       "      <th>created_utc</th>\n",
       "      <th>subreddit</th>\n",
       "      <th>title</th>\n",
       "      <th>selftext</th>\n",
       "      <th>upvote_ratio</th>\n",
       "      <th>ups</th>\n",
       "      <th>downs</th>\n",
       "      <th>score</th>\n",
       "      <th>organizations</th>\n",
       "    </tr>\n",
       "  </thead>\n",
       "  <tbody>\n",
       "    <tr>\n",
       "      <th>0</th>\n",
       "      <td>t3_1bzahku</td>\n",
       "      <td>1.712613e+09</td>\n",
       "      <td>investing</td>\n",
       "      <td>Backdoor Roth conversion when I have a Rollove...</td>\n",
       "      <td>I have a Rollover IRA (Fidelity) from a previo...</td>\n",
       "      <td>1.00</td>\n",
       "      <td>4.0</td>\n",
       "      <td>0.0</td>\n",
       "      <td>4.0</td>\n",
       "      <td>[Fidelity]</td>\n",
       "    </tr>\n",
       "    <tr>\n",
       "      <th>1</th>\n",
       "      <td>t3_1bza2ns</td>\n",
       "      <td>1.712612e+09</td>\n",
       "      <td>investing</td>\n",
       "      <td>New fund that gives exposure to SpaceX and OpenAI</td>\n",
       "      <td>It’s a fund, but behaves like a stock so far, ...</td>\n",
       "      <td>0.10</td>\n",
       "      <td>0.0</td>\n",
       "      <td>0.0</td>\n",
       "      <td>0.0</td>\n",
       "      <td>[]</td>\n",
       "    </tr>\n",
       "    <tr>\n",
       "      <th>2</th>\n",
       "      <td>t3_1bz9rgb</td>\n",
       "      <td>1.712611e+09</td>\n",
       "      <td>investing</td>\n",
       "      <td>Passive Investing with Ally?</td>\n",
       "      <td>I have set aside a decent chunk of money and w...</td>\n",
       "      <td>0.50</td>\n",
       "      <td>0.0</td>\n",
       "      <td>0.0</td>\n",
       "      <td>0.0</td>\n",
       "      <td>[AOA, Vanguard/Fidelity/Schwab, Ally, HYSA]</td>\n",
       "    </tr>\n",
       "    <tr>\n",
       "      <th>3</th>\n",
       "      <td>t3_1bz5ypn</td>\n",
       "      <td>1.712602e+09</td>\n",
       "      <td>investing</td>\n",
       "      <td>Would Fastly be a small-cap AI play in 2024?</td>\n",
       "      <td>[Fastly](https://www.barrons.com/market-data/s...</td>\n",
       "      <td>0.54</td>\n",
       "      <td>1.0</td>\n",
       "      <td>0.0</td>\n",
       "      <td>1.0</td>\n",
       "      <td>[Fastly](https://www.barrons.com, Neutral, mar...</td>\n",
       "    </tr>\n",
       "    <tr>\n",
       "      <th>4</th>\n",
       "      <td>t3_1bz5s2o</td>\n",
       "      <td>1.712602e+09</td>\n",
       "      <td>investing</td>\n",
       "      <td>What’s missing from my Vanguard basic conserva...</td>\n",
       "      <td>What’s missing from my Vanguard basic conserva...</td>\n",
       "      <td>0.40</td>\n",
       "      <td>0.0</td>\n",
       "      <td>0.0</td>\n",
       "      <td>0.0</td>\n",
       "      <td>[VOO]</td>\n",
       "    </tr>\n",
       "  </tbody>\n",
       "</table>\n",
       "</div>"
      ],
      "text/plain": [
       "           id   created_utc  subreddit  \\\n",
       "0  t3_1bzahku  1.712613e+09  investing   \n",
       "1  t3_1bza2ns  1.712612e+09  investing   \n",
       "2  t3_1bz9rgb  1.712611e+09  investing   \n",
       "3  t3_1bz5ypn  1.712602e+09  investing   \n",
       "4  t3_1bz5s2o  1.712602e+09  investing   \n",
       "\n",
       "                                               title  \\\n",
       "0  Backdoor Roth conversion when I have a Rollove...   \n",
       "1  New fund that gives exposure to SpaceX and OpenAI   \n",
       "2                      Passive Investing with Ally?    \n",
       "3       Would Fastly be a small-cap AI play in 2024?   \n",
       "4  What’s missing from my Vanguard basic conserva...   \n",
       "\n",
       "                                            selftext  upvote_ratio  ups  \\\n",
       "0  I have a Rollover IRA (Fidelity) from a previo...          1.00  4.0   \n",
       "1  It’s a fund, but behaves like a stock so far, ...          0.10  0.0   \n",
       "2  I have set aside a decent chunk of money and w...          0.50  0.0   \n",
       "3  [Fastly](https://www.barrons.com/market-data/s...          0.54  1.0   \n",
       "4  What’s missing from my Vanguard basic conserva...          0.40  0.0   \n",
       "\n",
       "   downs  score                                      organizations  \n",
       "0    0.0    4.0                                         [Fidelity]  \n",
       "1    0.0    0.0                                                 []  \n",
       "2    0.0    0.0        [AOA, Vanguard/Fidelity/Schwab, Ally, HYSA]  \n",
       "3    0.0    1.0  [Fastly](https://www.barrons.com, Neutral, mar...  \n",
       "4    0.0    0.0                                              [VOO]  "
      ]
     },
     "execution_count": 10,
     "metadata": {},
     "output_type": "execute_result"
    }
   ],
   "source": [
    "df['organizations'] = df['selftext'].apply(get_orgs)\n",
    "df.head()"
   ]
  },
  {
   "cell_type": "markdown",
   "metadata": {},
   "source": [
    "We can save our dataframe with the new *organizations* column to file for later use."
   ]
  },
  {
   "cell_type": "code",
   "execution_count": 11,
   "metadata": {},
   "outputs": [],
   "source": [
    "df.to_csv('./data/processed/reddit_investing_ner.csv', sep='|', index=False)"
   ]
  },
  {
   "cell_type": "code",
   "execution_count": null,
   "metadata": {},
   "outputs": [],
   "source": []
  }
 ],
 "metadata": {
  "kernelspec": {
   "display_name": "Python 3",
   "language": "python",
   "name": "python3"
  },
  "language_info": {
   "codemirror_mode": {
    "name": "ipython",
    "version": 3
   },
   "file_extension": ".py",
   "mimetype": "text/x-python",
   "name": "python",
   "nbconvert_exporter": "python",
   "pygments_lexer": "ipython3",
   "version": "3.7.13"
  }
 },
 "nbformat": 4,
 "nbformat_minor": 4
}
