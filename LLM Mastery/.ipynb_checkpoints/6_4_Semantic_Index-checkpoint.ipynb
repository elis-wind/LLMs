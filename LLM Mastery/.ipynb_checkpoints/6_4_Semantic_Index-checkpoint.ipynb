{
 "cells": [
  {
   "cell_type": "code",
   "execution_count": null,
   "metadata": {
    "colab": {
     "base_uri": "https://localhost:8080/"
    },
    "id": "3J0jRcGxKl3W",
    "outputId": "a5b04668-2801-4757-f936-d3b01068a5ef"
   },
   "outputs": [],
   "source": [
    "# Installing the necessary libraries\n",
    "!pip install sentence-transformers==2.2.0\n",
    "!pip install datasets==2.0.0\n",
    "!pip install torch==1.12.0"
   ]
  },
  {
   "cell_type": "code",
   "execution_count": 2,
   "metadata": {
    "colab": {
     "base_uri": "https://localhost:8080/",
     "height": 532
    },
    "id": "MafZDGQfLljK",
    "outputId": "c4d026d0-4c4e-475c-8f99-7837f1273a4f"
   },
   "outputs": [],
   "source": [
    "# Importing necessary modules\n",
    "from datasets import load_dataset\n",
    "from sentence_transformers import SentenceTransformer, util\n",
    "import torch\n",
    "import os"
   ]
  },
  {
   "cell_type": "code",
   "execution_count": 3,
   "metadata": {
    "id": "qk7RW8OQLnaz"
   },
   "outputs": [
    {
     "name": "stderr",
     "output_type": "stream",
     "text": [
      "WARNING:datasets.builder:Using custom data configuration default\n"
     ]
    },
    {
     "name": "stdout",
     "output_type": "stream",
     "text": [
      "Downloading and preparing dataset multi_news/default (download: 721.73 MiB, generated: 664.42 MiB, post-processed: Unknown size, total: 1.35 GiB) to /home/natasha/.cache/huggingface/datasets/multi_news/default/1.0.0/2f1f69a2bedc8ad1c5d8ae5148e4755ee7095f465c1c01ae8f85454342065a72...\n"
     ]
    },
    {
     "data": {
      "application/vnd.jupyter.widget-view+json": {
       "model_id": "880a498fd0ae477e92ff119690039cba",
       "version_major": 2,
       "version_minor": 0
      },
      "text/plain": [
       "Downloading data files:   0%|          | 0/3 [00:00<?, ?it/s]"
      ]
     },
     "metadata": {},
     "output_type": "display_data"
    },
    {
     "data": {
      "application/vnd.jupyter.widget-view+json": {
       "model_id": "2685846c553f40eea9d7b5684a5ce0a9",
       "version_major": 2,
       "version_minor": 0
      },
      "text/plain": [
       "Downloading data:   0%|          | 0.00/548M [00:00<?, ?B/s]"
      ]
     },
     "metadata": {},
     "output_type": "display_data"
    },
    {
     "data": {
      "application/vnd.jupyter.widget-view+json": {
       "model_id": "c2542ead8c924a80a0e23495d83e81a6",
       "version_major": 2,
       "version_minor": 0
      },
      "text/plain": [
       "Downloading data:   0%|          | 0.00/58.8M [00:00<?, ?B/s]"
      ]
     },
     "metadata": {},
     "output_type": "display_data"
    },
    {
     "data": {
      "application/vnd.jupyter.widget-view+json": {
       "model_id": "4fa83a78d72b4d0ea5675bc56352413e",
       "version_major": 2,
       "version_minor": 0
      },
      "text/plain": [
       "Downloading data:   0%|          | 0.00/66.9M [00:00<?, ?B/s]"
      ]
     },
     "metadata": {},
     "output_type": "display_data"
    },
    {
     "data": {
      "application/vnd.jupyter.widget-view+json": {
       "model_id": "d521ad545f1d431281f9524d50e1bb64",
       "version_major": 2,
       "version_minor": 0
      },
      "text/plain": [
       "Downloading data:   0%|          | 0.00/7.30M [00:00<?, ?B/s]"
      ]
     },
     "metadata": {},
     "output_type": "display_data"
    },
    {
     "data": {
      "application/vnd.jupyter.widget-view+json": {
       "model_id": "24b21927c2e54ad98305318e3d468284",
       "version_major": 2,
       "version_minor": 0
      },
      "text/plain": [
       "Downloading data:   0%|          | 0.00/69.0M [00:00<?, ?B/s]"
      ]
     },
     "metadata": {},
     "output_type": "display_data"
    },
    {
     "data": {
      "application/vnd.jupyter.widget-view+json": {
       "model_id": "ee7a12f4a1ea4ec092352cde5380863c",
       "version_major": 2,
       "version_minor": 0
      },
      "text/plain": [
       "Downloading data:   0%|          | 0.00/7.31M [00:00<?, ?B/s]"
      ]
     },
     "metadata": {},
     "output_type": "display_data"
    },
    {
     "data": {
      "application/vnd.jupyter.widget-view+json": {
       "model_id": "",
       "version_major": 2,
       "version_minor": 0
      },
      "text/plain": [
       "Generating train split:   0%|          | 0/44972 [00:00<?, ? examples/s]"
      ]
     },
     "metadata": {},
     "output_type": "display_data"
    },
    {
     "data": {
      "application/vnd.jupyter.widget-view+json": {
       "model_id": "",
       "version_major": 2,
       "version_minor": 0
      },
      "text/plain": [
       "Generating validation split:   0%|          | 0/5622 [00:00<?, ? examples/s]"
      ]
     },
     "metadata": {},
     "output_type": "display_data"
    },
    {
     "data": {
      "application/vnd.jupyter.widget-view+json": {
       "model_id": "",
       "version_major": 2,
       "version_minor": 0
      },
      "text/plain": [
       "Generating test split:   0%|          | 0/5622 [00:00<?, ? examples/s]"
      ]
     },
     "metadata": {},
     "output_type": "display_data"
    },
    {
     "name": "stdout",
     "output_type": "stream",
     "text": [
      "Dataset multi_news downloaded and prepared to /home/natasha/.cache/huggingface/datasets/multi_news/default/1.0.0/2f1f69a2bedc8ad1c5d8ae5148e4755ee7095f465c1c01ae8f85454342065a72. Subsequent calls will reuse this data.\n"
     ]
    },
    {
     "data": {
      "text/html": [
       "<div>\n",
       "<style scoped>\n",
       "    .dataframe tbody tr th:only-of-type {\n",
       "        vertical-align: middle;\n",
       "    }\n",
       "\n",
       "    .dataframe tbody tr th {\n",
       "        vertical-align: top;\n",
       "    }\n",
       "\n",
       "    .dataframe thead th {\n",
       "        text-align: right;\n",
       "    }\n",
       "</style>\n",
       "<table border=\"1\" class=\"dataframe\">\n",
       "  <thead>\n",
       "    <tr style=\"text-align: right;\">\n",
       "      <th></th>\n",
       "      <th>document</th>\n",
       "      <th>summary</th>\n",
       "    </tr>\n",
       "  </thead>\n",
       "  <tbody>\n",
       "    <tr>\n",
       "      <th>4830</th>\n",
       "      <td>Tweet with a location \\n \\n You can add locati...</td>\n",
       "      <td>– Denis Finley has taken to Twitter to call Po...</td>\n",
       "    </tr>\n",
       "    <tr>\n",
       "      <th>1255</th>\n",
       "      <td>CNN host Piers Morgan just called to discuss h...</td>\n",
       "      <td>– CNN's Piers Morgan thinks gun-rights propone...</td>\n",
       "    </tr>\n",
       "    <tr>\n",
       "      <th>80</th>\n",
       "      <td>White House communications director Anthony Sc...</td>\n",
       "      <td>– New White House communications director Anth...</td>\n",
       "    </tr>\n",
       "    <tr>\n",
       "      <th>3044</th>\n",
       "      <td>CLOSE Scientists say they've found archaeologi...</td>\n",
       "      <td>– Scientists say they have the first physical ...</td>\n",
       "    </tr>\n",
       "    <tr>\n",
       "      <th>4486</th>\n",
       "      <td>Click image above to view graphic \\n \\n Althou...</td>\n",
       "      <td>– Scientists are calling it a breakthrough and...</td>\n",
       "    </tr>\n",
       "    <tr>\n",
       "      <th>...</th>\n",
       "      <td>...</td>\n",
       "      <td>...</td>\n",
       "    </tr>\n",
       "    <tr>\n",
       "      <th>2157</th>\n",
       "      <td>On Thursday afternoon, President-elect Donald ...</td>\n",
       "      <td>– He who pays the piper calls the tune, and it...</td>\n",
       "    </tr>\n",
       "    <tr>\n",
       "      <th>3615</th>\n",
       "      <td>Donald Trump said Sunday that in the wake of t...</td>\n",
       "      <td>– In the wake of the Orlando shooting one week...</td>\n",
       "    </tr>\n",
       "    <tr>\n",
       "      <th>2751</th>\n",
       "      <td>Nashua police believe body found is that of mi...</td>\n",
       "      <td>– Sad news out of Nashua, NH, after police say...</td>\n",
       "    </tr>\n",
       "    <tr>\n",
       "      <th>622</th>\n",
       "      <td>The public school systems in New York and Los ...</td>\n",
       "      <td>– Some 640,000 kids in the nation's second-lar...</td>\n",
       "    </tr>\n",
       "    <tr>\n",
       "      <th>2252</th>\n",
       "      <td>For the past 3 years Lauriann has been cared f...</td>\n",
       "      <td>– A Utah woman owes big thanks to Taylor Swift...</td>\n",
       "    </tr>\n",
       "  </tbody>\n",
       "</table>\n",
       "<p>2000 rows × 2 columns</p>\n",
       "</div>"
      ],
      "text/plain": [
       "                                               document  \\\n",
       "4830  Tweet with a location \\n \\n You can add locati...   \n",
       "1255  CNN host Piers Morgan just called to discuss h...   \n",
       "80    White House communications director Anthony Sc...   \n",
       "3044  CLOSE Scientists say they've found archaeologi...   \n",
       "4486  Click image above to view graphic \\n \\n Althou...   \n",
       "...                                                 ...   \n",
       "2157  On Thursday afternoon, President-elect Donald ...   \n",
       "3615  Donald Trump said Sunday that in the wake of t...   \n",
       "2751  Nashua police believe body found is that of mi...   \n",
       "622   The public school systems in New York and Los ...   \n",
       "2252  For the past 3 years Lauriann has been cared f...   \n",
       "\n",
       "                                                summary  \n",
       "4830  – Denis Finley has taken to Twitter to call Po...  \n",
       "1255  – CNN's Piers Morgan thinks gun-rights propone...  \n",
       "80    – New White House communications director Anth...  \n",
       "3044  – Scientists say they have the first physical ...  \n",
       "4486  – Scientists are calling it a breakthrough and...  \n",
       "...                                                 ...  \n",
       "2157  – He who pays the piper calls the tune, and it...  \n",
       "3615  – In the wake of the Orlando shooting one week...  \n",
       "2751  – Sad news out of Nashua, NH, after police say...  \n",
       "622   – Some 640,000 kids in the nation's second-lar...  \n",
       "2252  – A Utah woman owes big thanks to Taylor Swift...  \n",
       "\n",
       "[2000 rows x 2 columns]"
      ]
     },
     "execution_count": 3,
     "metadata": {},
     "output_type": "execute_result"
    }
   ],
   "source": [
    "# Load a sample from the Multi-News dataset and convert it to a pandas dataframe\n",
    "dataset = load_dataset(\"multi_news\", split=\"test\")\n",
    "df = dataset.to_pandas().sample(2000, random_state=42)\n",
    "df"
   ]
  },
  {
   "cell_type": "code",
   "execution_count": 4,
   "metadata": {
    "id": "ixkf2-XYLnw-"
   },
   "outputs": [
    {
     "data": {
      "application/vnd.jupyter.widget-view+json": {
       "model_id": "f59a8be595af43f4b3978884fa3cfbe3",
       "version_major": 2,
       "version_minor": 0
      },
      "text/plain": [
       "Downloading .gitattributes:   0%|          | 0.00/1.18k [00:00<?, ?B/s]"
      ]
     },
     "metadata": {},
     "output_type": "display_data"
    },
    {
     "data": {
      "application/vnd.jupyter.widget-view+json": {
       "model_id": "addfa3625730451a8003df61cd9929ed",
       "version_major": 2,
       "version_minor": 0
      },
      "text/plain": [
       "Downloading 1_Pooling/config.json:   0%|          | 0.00/190 [00:00<?, ?B/s]"
      ]
     },
     "metadata": {},
     "output_type": "display_data"
    },
    {
     "data": {
      "application/vnd.jupyter.widget-view+json": {
       "model_id": "920315b862e64ba49f8697fbb8be7df7",
       "version_major": 2,
       "version_minor": 0
      },
      "text/plain": [
       "Downloading README.md:   0%|          | 0.00/10.7k [00:00<?, ?B/s]"
      ]
     },
     "metadata": {},
     "output_type": "display_data"
    },
    {
     "data": {
      "application/vnd.jupyter.widget-view+json": {
       "model_id": "1a562de2602e4f569b881692ffde528c",
       "version_major": 2,
       "version_minor": 0
      },
      "text/plain": [
       "Downloading config.json:   0%|          | 0.00/612 [00:00<?, ?B/s]"
      ]
     },
     "metadata": {},
     "output_type": "display_data"
    },
    {
     "data": {
      "application/vnd.jupyter.widget-view+json": {
       "model_id": "0079c629433e452dab4247766be5f3e8",
       "version_major": 2,
       "version_minor": 0
      },
      "text/plain": [
       "Downloading (…)ce_transformers.json:   0%|          | 0.00/116 [00:00<?, ?B/s]"
      ]
     },
     "metadata": {},
     "output_type": "display_data"
    },
    {
     "data": {
      "application/vnd.jupyter.widget-view+json": {
       "model_id": "e0c5aefc0c494e169899b95a416f5a5c",
       "version_major": 2,
       "version_minor": 0
      },
      "text/plain": [
       "Downloading data_config.json:   0%|          | 0.00/39.3k [00:00<?, ?B/s]"
      ]
     },
     "metadata": {},
     "output_type": "display_data"
    },
    {
     "data": {
      "application/vnd.jupyter.widget-view+json": {
       "model_id": "f3127bd274d6402bb5f840ddd9ec1d6c",
       "version_major": 2,
       "version_minor": 0
      },
      "text/plain": [
       "Downloading pytorch_model.bin:   0%|          | 0.00/90.9M [00:00<?, ?B/s]"
      ]
     },
     "metadata": {},
     "output_type": "display_data"
    },
    {
     "data": {
      "application/vnd.jupyter.widget-view+json": {
       "model_id": "f1df8553f8844abf85073f9f55654af1",
       "version_major": 2,
       "version_minor": 0
      },
      "text/plain": [
       "Downloading (…)nce_bert_config.json:   0%|          | 0.00/53.0 [00:00<?, ?B/s]"
      ]
     },
     "metadata": {},
     "output_type": "display_data"
    },
    {
     "data": {
      "application/vnd.jupyter.widget-view+json": {
       "model_id": "081935906698475ca860e865f5eea728",
       "version_major": 2,
       "version_minor": 0
      },
      "text/plain": [
       "Downloading (…)cial_tokens_map.json:   0%|          | 0.00/112 [00:00<?, ?B/s]"
      ]
     },
     "metadata": {},
     "output_type": "display_data"
    },
    {
     "data": {
      "application/vnd.jupyter.widget-view+json": {
       "model_id": "928b8beabe724dc2a8f0078b5fcca850",
       "version_major": 2,
       "version_minor": 0
      },
      "text/plain": [
       "Downloading tokenizer.json:   0%|          | 0.00/466k [00:00<?, ?B/s]"
      ]
     },
     "metadata": {},
     "output_type": "display_data"
    },
    {
     "data": {
      "application/vnd.jupyter.widget-view+json": {
       "model_id": "772f63e190e149868457ab95c836a00b",
       "version_major": 2,
       "version_minor": 0
      },
      "text/plain": [
       "Downloading tokenizer_config.json:   0%|          | 0.00/350 [00:00<?, ?B/s]"
      ]
     },
     "metadata": {},
     "output_type": "display_data"
    },
    {
     "data": {
      "application/vnd.jupyter.widget-view+json": {
       "model_id": "ccf24cd9f6b448e69b2beca2262d7f58",
       "version_major": 2,
       "version_minor": 0
      },
      "text/plain": [
       "Downloading train_script.py:   0%|          | 0.00/13.2k [00:00<?, ?B/s]"
      ]
     },
     "metadata": {},
     "output_type": "display_data"
    },
    {
     "data": {
      "application/vnd.jupyter.widget-view+json": {
       "model_id": "db50f8027d034679b685268c647b1490",
       "version_major": 2,
       "version_minor": 0
      },
      "text/plain": [
       "Downloading vocab.txt:   0%|          | 0.00/232k [00:00<?, ?B/s]"
      ]
     },
     "metadata": {},
     "output_type": "display_data"
    },
    {
     "data": {
      "application/vnd.jupyter.widget-view+json": {
       "model_id": "14ce8d6498c341ecadf93937e2d6bf76",
       "version_major": 2,
       "version_minor": 0
      },
      "text/plain": [
       "Downloading modules.json:   0%|          | 0.00/349 [00:00<?, ?B/s]"
      ]
     },
     "metadata": {},
     "output_type": "display_data"
    },
    {
     "data": {
      "application/vnd.jupyter.widget-view+json": {
       "model_id": "460941835d51481a88bab080d2de0859",
       "version_major": 2,
       "version_minor": 0
      },
      "text/plain": [
       "Batches:   0%|          | 0/63 [00:00<?, ?it/s]"
      ]
     },
     "metadata": {},
     "output_type": "display_data"
    },
    {
     "data": {
      "text/html": [
       "<div>\n",
       "<style scoped>\n",
       "    .dataframe tbody tr th:only-of-type {\n",
       "        vertical-align: middle;\n",
       "    }\n",
       "\n",
       "    .dataframe tbody tr th {\n",
       "        vertical-align: top;\n",
       "    }\n",
       "\n",
       "    .dataframe thead th {\n",
       "        text-align: right;\n",
       "    }\n",
       "</style>\n",
       "<table border=\"1\" class=\"dataframe\">\n",
       "  <thead>\n",
       "    <tr style=\"text-align: right;\">\n",
       "      <th></th>\n",
       "      <th>document</th>\n",
       "      <th>summary</th>\n",
       "      <th>embedding</th>\n",
       "    </tr>\n",
       "  </thead>\n",
       "  <tbody>\n",
       "    <tr>\n",
       "      <th>4830</th>\n",
       "      <td>Tweet with a location \\n \\n You can add locati...</td>\n",
       "      <td>– Denis Finley has taken to Twitter to call Po...</td>\n",
       "      <td>[-0.05381895, 0.012980465, 0.037304677, -0.023...</td>\n",
       "    </tr>\n",
       "    <tr>\n",
       "      <th>1255</th>\n",
       "      <td>CNN host Piers Morgan just called to discuss h...</td>\n",
       "      <td>– CNN's Piers Morgan thinks gun-rights propone...</td>\n",
       "      <td>[0.011422966, 0.0039216722, -0.0013294091, -0....</td>\n",
       "    </tr>\n",
       "    <tr>\n",
       "      <th>80</th>\n",
       "      <td>White House communications director Anthony Sc...</td>\n",
       "      <td>– New White House communications director Anth...</td>\n",
       "      <td>[-0.0039799595, -0.04402323, 0.013985191, 0.07...</td>\n",
       "    </tr>\n",
       "    <tr>\n",
       "      <th>3044</th>\n",
       "      <td>CLOSE Scientists say they've found archaeologi...</td>\n",
       "      <td>– Scientists say they have the first physical ...</td>\n",
       "      <td>[-0.06128692, 0.06804823, 0.007919099, 0.02916...</td>\n",
       "    </tr>\n",
       "    <tr>\n",
       "      <th>4486</th>\n",
       "      <td>Click image above to view graphic \\n \\n Althou...</td>\n",
       "      <td>– Scientists are calling it a breakthrough and...</td>\n",
       "      <td>[-0.044350296, -0.032439917, -0.009360981, 0.0...</td>\n",
       "    </tr>\n",
       "    <tr>\n",
       "      <th>...</th>\n",
       "      <td>...</td>\n",
       "      <td>...</td>\n",
       "      <td>...</td>\n",
       "    </tr>\n",
       "    <tr>\n",
       "      <th>2157</th>\n",
       "      <td>On Thursday afternoon, President-elect Donald ...</td>\n",
       "      <td>– He who pays the piper calls the tune, and it...</td>\n",
       "      <td>[-0.010824581, 0.010812962, 0.008369083, -0.01...</td>\n",
       "    </tr>\n",
       "    <tr>\n",
       "      <th>3615</th>\n",
       "      <td>Donald Trump said Sunday that in the wake of t...</td>\n",
       "      <td>– In the wake of the Orlando shooting one week...</td>\n",
       "      <td>[0.0265684, 0.052909024, -0.065781735, -0.0166...</td>\n",
       "    </tr>\n",
       "    <tr>\n",
       "      <th>2751</th>\n",
       "      <td>Nashua police believe body found is that of mi...</td>\n",
       "      <td>– Sad news out of Nashua, NH, after police say...</td>\n",
       "      <td>[-0.009423538, 0.1025467, 0.025951564, -0.0524...</td>\n",
       "    </tr>\n",
       "    <tr>\n",
       "      <th>622</th>\n",
       "      <td>The public school systems in New York and Los ...</td>\n",
       "      <td>– Some 640,000 kids in the nation's second-lar...</td>\n",
       "      <td>[-0.031569168, 0.010559936, 0.02443271, 0.0343...</td>\n",
       "    </tr>\n",
       "    <tr>\n",
       "      <th>2252</th>\n",
       "      <td>For the past 3 years Lauriann has been cared f...</td>\n",
       "      <td>– A Utah woman owes big thanks to Taylor Swift...</td>\n",
       "      <td>[0.032033987, -0.0866627, 0.073679976, -0.0074...</td>\n",
       "    </tr>\n",
       "  </tbody>\n",
       "</table>\n",
       "<p>2000 rows × 3 columns</p>\n",
       "</div>"
      ],
      "text/plain": [
       "                                               document  \\\n",
       "4830  Tweet with a location \\n \\n You can add locati...   \n",
       "1255  CNN host Piers Morgan just called to discuss h...   \n",
       "80    White House communications director Anthony Sc...   \n",
       "3044  CLOSE Scientists say they've found archaeologi...   \n",
       "4486  Click image above to view graphic \\n \\n Althou...   \n",
       "...                                                 ...   \n",
       "2157  On Thursday afternoon, President-elect Donald ...   \n",
       "3615  Donald Trump said Sunday that in the wake of t...   \n",
       "2751  Nashua police believe body found is that of mi...   \n",
       "622   The public school systems in New York and Los ...   \n",
       "2252  For the past 3 years Lauriann has been cared f...   \n",
       "\n",
       "                                                summary  \\\n",
       "4830  – Denis Finley has taken to Twitter to call Po...   \n",
       "1255  – CNN's Piers Morgan thinks gun-rights propone...   \n",
       "80    – New White House communications director Anth...   \n",
       "3044  – Scientists say they have the first physical ...   \n",
       "4486  – Scientists are calling it a breakthrough and...   \n",
       "...                                                 ...   \n",
       "2157  – He who pays the piper calls the tune, and it...   \n",
       "3615  – In the wake of the Orlando shooting one week...   \n",
       "2751  – Sad news out of Nashua, NH, after police say...   \n",
       "622   – Some 640,000 kids in the nation's second-lar...   \n",
       "2252  – A Utah woman owes big thanks to Taylor Swift...   \n",
       "\n",
       "                                              embedding  \n",
       "4830  [-0.05381895, 0.012980465, 0.037304677, -0.023...  \n",
       "1255  [0.011422966, 0.0039216722, -0.0013294091, -0....  \n",
       "80    [-0.0039799595, -0.04402323, 0.013985191, 0.07...  \n",
       "3044  [-0.06128692, 0.06804823, 0.007919099, 0.02916...  \n",
       "4486  [-0.044350296, -0.032439917, -0.009360981, 0.0...  \n",
       "...                                                 ...  \n",
       "2157  [-0.010824581, 0.010812962, 0.008369083, -0.01...  \n",
       "3615  [0.0265684, 0.052909024, -0.065781735, -0.0166...  \n",
       "2751  [-0.009423538, 0.1025467, 0.025951564, -0.0524...  \n",
       "622   [-0.031569168, 0.010559936, 0.02443271, 0.0343...  \n",
       "2252  [0.032033987, -0.0866627, 0.073679976, -0.0074...  \n",
       "\n",
       "[2000 rows x 3 columns]"
      ]
     },
     "execution_count": 4,
     "metadata": {},
     "output_type": "execute_result"
    }
   ],
   "source": [
    "# Load the SentenceTransformer model\n",
    "model = SentenceTransformer(\"all-MiniLM-L6-v2\")\n",
    "\n",
    "# Encode the summaries and store them as embeddings\n",
    "df[\"embedding\"] = list(model.encode(df[\"summary\"].to_list(), show_progress_bar=True))\n",
    "passage_embeddings = df[\"embedding\"].to_list()\n",
    "df"
   ]
  },
  {
   "cell_type": "code",
   "execution_count": 5,
   "metadata": {
    "id": "oWqfdI4uLpvT"
   },
   "outputs": [],
   "source": [
    "def find_relevant_news(query):\n",
    "    # Encode the query using the same model\n",
    "    query_embedding = model.encode(query)\n",
    "\n",
    "    # Calculate the cosine similarity between the query and passage embeddings\n",
    "    similarities = util.cos_sim(query_embedding, passage_embeddings)\n",
    "\n",
    "    # Get the indices of the top 3 most similar passages\n",
    "    top_indices = torch.topk(similarities.flatten(), 3).indices\n",
    "\n",
    "    # Retrieve the summaries of the top 3 passages and truncate them to 160 characters\n",
    "    top_relevant_passages = [df.iloc[x.item()][\"summary\"][:160] + \"...\" for x in top_indices]\n",
    "\n",
    "    return top_relevant_passages"
   ]
  },
  {
   "cell_type": "code",
   "execution_count": 6,
   "metadata": {
    "id": "2uWZTSUvLrDI"
   },
   "outputs": [],
   "source": [
    "def clear_screen():\n",
    "    os.system(\"clear\")"
   ]
  },
  {
   "cell_type": "code",
   "execution_count": 7,
   "metadata": {
    "id": "i9eCbirxLsA3"
   },
   "outputs": [],
   "source": [
    "def interactive_search():\n",
    "    print(\"Welcome to the Semantic News Search!\\n\")\n",
    "    while True:\n",
    "        print(\"Type in a topic you'd like to find articles about, and I'll do the searching! (Type 'exit' to quit)\\n> \", end=\"\")\n",
    "\n",
    "        query = input().strip()\n",
    "\n",
    "        if query.lower() == \"exit\":\n",
    "            print(\"\\nThanks for using the Semantic News Search! Have a great day!\")\n",
    "            break\n",
    "\n",
    "        print(\"\\n\\tHere are 3 articles I found based on your query: \\n\")\n",
    "\n",
    "        passages = find_relevant_news(query)\n",
    "        for passage in passages:\n",
    "            print(\"\\n\\t\" + passage)\n",
    "\n",
    "        input(\"\\nPress Enter to continue searching...\")\n",
    "        clear_screen()"
   ]
  },
  {
   "cell_type": "code",
   "execution_count": 9,
   "metadata": {
    "id": "NBM5hLdeLwoi"
   },
   "outputs": [
    {
     "name": "stdout",
     "output_type": "stream",
     "text": [
      "Welcome to the Semantic News Search!\n",
      "\n",
      "Type in a topic you'd like to find articles about, and I'll do the searching! (Type 'exit' to quit)\n",
      "> science and technology\n",
      "\n",
      "\tHere are 3 articles I found based on your query: \n",
      "\n",
      "\n",
      "\t– Three scientists from the United States, France, and Canada have been awarded the Nobel Prize in physics for advances in laser physics, including the first wo...\n",
      "\n",
      "\t– Leonardo da Vinci used oil-based paint to create his Mona Lisa. The folks at Georgia Tech used ThermoChemical NanoLithography to create their version, dubbed ...\n",
      "\n",
      "\t– It's enough to make Einstein's hair stand up: Physicists at CERN think they've spotted neutrinos traveling faster than light, reports AP. According to Einstei...\n",
      "\n",
      "Press Enter to continue searching...\n",
      "\u001b[H\u001b[2JType in a topic you'd like to find articles about, and I'll do the searching! (Type 'exit' to quit)\n",
      "> exit\n",
      "\n",
      "Thanks for using the Semantic News Search! Have a great day!\n"
     ]
    }
   ],
   "source": [
    "# Start the interactive search\n",
    "interactive_search()"
   ]
  },
  {
   "cell_type": "code",
   "execution_count": null,
   "metadata": {
    "id": "UrE1IKEpLw99"
   },
   "outputs": [],
   "source": []
  }
 ],
 "metadata": {
  "colab": {
   "provenance": []
  },
  "kernelspec": {
   "display_name": "Python 3",
   "language": "python",
   "name": "python3"
  },
  "language_info": {
   "codemirror_mode": {
    "name": "ipython",
    "version": 3
   },
   "file_extension": ".py",
   "mimetype": "text/x-python",
   "name": "python",
   "nbconvert_exporter": "python",
   "pygments_lexer": "ipython3",
   "version": "3.7.13"
  }
 },
 "nbformat": 4,
 "nbformat_minor": 1
}
